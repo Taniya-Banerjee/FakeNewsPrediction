{
 "cells": [
  {
   "cell_type": "code",
   "execution_count": 1,
   "id": "95a7ae37",
   "metadata": {},
   "outputs": [],
   "source": [
    "import pandas as pd"
   ]
  },
  {
   "cell_type": "code",
   "execution_count": 2,
   "id": "2683994c",
   "metadata": {},
   "outputs": [],
   "source": [
    "# Data collection"
   ]
  },
  {
   "cell_type": "code",
   "execution_count": 3,
   "id": "9fb3df8e",
   "metadata": {},
   "outputs": [],
   "source": [
    "data_set_fake = pd.read_csv(\"Fake.csv\")\n",
    "data_set_true = pd.read_csv(\"True.csv\")"
   ]
  },
  {
   "cell_type": "code",
   "execution_count": 4,
   "id": "4960bd94",
   "metadata": {},
   "outputs": [
    {
     "data": {
      "text/html": [
       "<div>\n",
       "<style scoped>\n",
       "    .dataframe tbody tr th:only-of-type {\n",
       "        vertical-align: middle;\n",
       "    }\n",
       "\n",
       "    .dataframe tbody tr th {\n",
       "        vertical-align: top;\n",
       "    }\n",
       "\n",
       "    .dataframe thead th {\n",
       "        text-align: right;\n",
       "    }\n",
       "</style>\n",
       "<table border=\"1\" class=\"dataframe\">\n",
       "  <thead>\n",
       "    <tr style=\"text-align: right;\">\n",
       "      <th></th>\n",
       "      <th>title</th>\n",
       "      <th>text</th>\n",
       "      <th>subject</th>\n",
       "      <th>date</th>\n",
       "    </tr>\n",
       "  </thead>\n",
       "  <tbody>\n",
       "    <tr>\n",
       "      <th>0</th>\n",
       "      <td>Donald Trump Sends Out Embarrassing New Year’...</td>\n",
       "      <td>Donald Trump just couldn t wish all Americans ...</td>\n",
       "      <td>News</td>\n",
       "      <td>December 31, 2017</td>\n",
       "    </tr>\n",
       "    <tr>\n",
       "      <th>1</th>\n",
       "      <td>Drunk Bragging Trump Staffer Started Russian ...</td>\n",
       "      <td>House Intelligence Committee Chairman Devin Nu...</td>\n",
       "      <td>News</td>\n",
       "      <td>December 31, 2017</td>\n",
       "    </tr>\n",
       "    <tr>\n",
       "      <th>2</th>\n",
       "      <td>Sheriff David Clarke Becomes An Internet Joke...</td>\n",
       "      <td>On Friday, it was revealed that former Milwauk...</td>\n",
       "      <td>News</td>\n",
       "      <td>December 30, 2017</td>\n",
       "    </tr>\n",
       "    <tr>\n",
       "      <th>3</th>\n",
       "      <td>Trump Is So Obsessed He Even Has Obama’s Name...</td>\n",
       "      <td>On Christmas day, Donald Trump announced that ...</td>\n",
       "      <td>News</td>\n",
       "      <td>December 29, 2017</td>\n",
       "    </tr>\n",
       "    <tr>\n",
       "      <th>4</th>\n",
       "      <td>Pope Francis Just Called Out Donald Trump Dur...</td>\n",
       "      <td>Pope Francis used his annual Christmas Day mes...</td>\n",
       "      <td>News</td>\n",
       "      <td>December 25, 2017</td>\n",
       "    </tr>\n",
       "  </tbody>\n",
       "</table>\n",
       "</div>"
      ],
      "text/plain": [
       "                                               title  \\\n",
       "0   Donald Trump Sends Out Embarrassing New Year’...   \n",
       "1   Drunk Bragging Trump Staffer Started Russian ...   \n",
       "2   Sheriff David Clarke Becomes An Internet Joke...   \n",
       "3   Trump Is So Obsessed He Even Has Obama’s Name...   \n",
       "4   Pope Francis Just Called Out Donald Trump Dur...   \n",
       "\n",
       "                                                text subject  \\\n",
       "0  Donald Trump just couldn t wish all Americans ...    News   \n",
       "1  House Intelligence Committee Chairman Devin Nu...    News   \n",
       "2  On Friday, it was revealed that former Milwauk...    News   \n",
       "3  On Christmas day, Donald Trump announced that ...    News   \n",
       "4  Pope Francis used his annual Christmas Day mes...    News   \n",
       "\n",
       "                date  \n",
       "0  December 31, 2017  \n",
       "1  December 31, 2017  \n",
       "2  December 30, 2017  \n",
       "3  December 29, 2017  \n",
       "4  December 25, 2017  "
      ]
     },
     "execution_count": 4,
     "metadata": {},
     "output_type": "execute_result"
    }
   ],
   "source": [
    "data_set_fake.head(5)"
   ]
  },
  {
   "cell_type": "code",
   "execution_count": 5,
   "id": "644c77fa",
   "metadata": {},
   "outputs": [
    {
     "data": {
      "text/html": [
       "<div>\n",
       "<style scoped>\n",
       "    .dataframe tbody tr th:only-of-type {\n",
       "        vertical-align: middle;\n",
       "    }\n",
       "\n",
       "    .dataframe tbody tr th {\n",
       "        vertical-align: top;\n",
       "    }\n",
       "\n",
       "    .dataframe thead th {\n",
       "        text-align: right;\n",
       "    }\n",
       "</style>\n",
       "<table border=\"1\" class=\"dataframe\">\n",
       "  <thead>\n",
       "    <tr style=\"text-align: right;\">\n",
       "      <th></th>\n",
       "      <th>title</th>\n",
       "      <th>text</th>\n",
       "      <th>subject</th>\n",
       "      <th>date</th>\n",
       "    </tr>\n",
       "  </thead>\n",
       "  <tbody>\n",
       "    <tr>\n",
       "      <th>0</th>\n",
       "      <td>As U.S. budget fight looms, Republicans flip t...</td>\n",
       "      <td>WASHINGTON (Reuters) - The head of a conservat...</td>\n",
       "      <td>politicsNews</td>\n",
       "      <td>December 31, 2017</td>\n",
       "    </tr>\n",
       "    <tr>\n",
       "      <th>1</th>\n",
       "      <td>U.S. military to accept transgender recruits o...</td>\n",
       "      <td>WASHINGTON (Reuters) - Transgender people will...</td>\n",
       "      <td>politicsNews</td>\n",
       "      <td>December 29, 2017</td>\n",
       "    </tr>\n",
       "    <tr>\n",
       "      <th>2</th>\n",
       "      <td>Senior U.S. Republican senator: 'Let Mr. Muell...</td>\n",
       "      <td>WASHINGTON (Reuters) - The special counsel inv...</td>\n",
       "      <td>politicsNews</td>\n",
       "      <td>December 31, 2017</td>\n",
       "    </tr>\n",
       "    <tr>\n",
       "      <th>3</th>\n",
       "      <td>FBI Russia probe helped by Australian diplomat...</td>\n",
       "      <td>WASHINGTON (Reuters) - Trump campaign adviser ...</td>\n",
       "      <td>politicsNews</td>\n",
       "      <td>December 30, 2017</td>\n",
       "    </tr>\n",
       "    <tr>\n",
       "      <th>4</th>\n",
       "      <td>Trump wants Postal Service to charge 'much mor...</td>\n",
       "      <td>SEATTLE/WASHINGTON (Reuters) - President Donal...</td>\n",
       "      <td>politicsNews</td>\n",
       "      <td>December 29, 2017</td>\n",
       "    </tr>\n",
       "  </tbody>\n",
       "</table>\n",
       "</div>"
      ],
      "text/plain": [
       "                                               title  \\\n",
       "0  As U.S. budget fight looms, Republicans flip t...   \n",
       "1  U.S. military to accept transgender recruits o...   \n",
       "2  Senior U.S. Republican senator: 'Let Mr. Muell...   \n",
       "3  FBI Russia probe helped by Australian diplomat...   \n",
       "4  Trump wants Postal Service to charge 'much mor...   \n",
       "\n",
       "                                                text       subject  \\\n",
       "0  WASHINGTON (Reuters) - The head of a conservat...  politicsNews   \n",
       "1  WASHINGTON (Reuters) - Transgender people will...  politicsNews   \n",
       "2  WASHINGTON (Reuters) - The special counsel inv...  politicsNews   \n",
       "3  WASHINGTON (Reuters) - Trump campaign adviser ...  politicsNews   \n",
       "4  SEATTLE/WASHINGTON (Reuters) - President Donal...  politicsNews   \n",
       "\n",
       "                 date  \n",
       "0  December 31, 2017   \n",
       "1  December 29, 2017   \n",
       "2  December 31, 2017   \n",
       "3  December 30, 2017   \n",
       "4  December 29, 2017   "
      ]
     },
     "execution_count": 5,
     "metadata": {},
     "output_type": "execute_result"
    }
   ],
   "source": [
    "data_set_true.head(5)"
   ]
  },
  {
   "cell_type": "markdown",
   "id": "85ac37da",
   "metadata": {},
   "source": [
    "### Merge the two datasets"
   ]
  },
  {
   "cell_type": "markdown",
   "id": "3605e513",
   "metadata": {},
   "source": [
    "#### Before we merge, we should add a new column which will flag the news as Fake or True news, this will be our Target feature"
   ]
  },
  {
   "cell_type": "code",
   "execution_count": 7,
   "id": "d25562e2",
   "metadata": {},
   "outputs": [],
   "source": [
    "data_set_fake['True'] = 0\n",
    "data_set_true['True'] = 1\n"
   ]
  },
  {
   "cell_type": "code",
   "execution_count": 8,
   "id": "a7d9a114",
   "metadata": {},
   "outputs": [
    {
     "data": {
      "text/plain": [
       "((21417, 5), (23481, 5))"
      ]
     },
     "execution_count": 8,
     "metadata": {},
     "output_type": "execute_result"
    }
   ],
   "source": [
    "data_set_true.shape, data_set_fake.shape\n",
    "\n"
   ]
  },
  {
   "cell_type": "code",
   "execution_count": 9,
   "id": "04fef6b7",
   "metadata": {},
   "outputs": [
    {
     "data": {
      "text/html": [
       "<div>\n",
       "<style scoped>\n",
       "    .dataframe tbody tr th:only-of-type {\n",
       "        vertical-align: middle;\n",
       "    }\n",
       "\n",
       "    .dataframe tbody tr th {\n",
       "        vertical-align: top;\n",
       "    }\n",
       "\n",
       "    .dataframe thead th {\n",
       "        text-align: right;\n",
       "    }\n",
       "</style>\n",
       "<table border=\"1\" class=\"dataframe\">\n",
       "  <thead>\n",
       "    <tr style=\"text-align: right;\">\n",
       "      <th></th>\n",
       "      <th>title</th>\n",
       "      <th>text</th>\n",
       "      <th>subject</th>\n",
       "      <th>date</th>\n",
       "      <th>True</th>\n",
       "    </tr>\n",
       "  </thead>\n",
       "  <tbody>\n",
       "    <tr>\n",
       "      <th>0</th>\n",
       "      <td>Donald Trump Sends Out Embarrassing New Year’...</td>\n",
       "      <td>Donald Trump just couldn t wish all Americans ...</td>\n",
       "      <td>News</td>\n",
       "      <td>December 31, 2017</td>\n",
       "      <td>0</td>\n",
       "    </tr>\n",
       "    <tr>\n",
       "      <th>1</th>\n",
       "      <td>Drunk Bragging Trump Staffer Started Russian ...</td>\n",
       "      <td>House Intelligence Committee Chairman Devin Nu...</td>\n",
       "      <td>News</td>\n",
       "      <td>December 31, 2017</td>\n",
       "      <td>0</td>\n",
       "    </tr>\n",
       "    <tr>\n",
       "      <th>2</th>\n",
       "      <td>Sheriff David Clarke Becomes An Internet Joke...</td>\n",
       "      <td>On Friday, it was revealed that former Milwauk...</td>\n",
       "      <td>News</td>\n",
       "      <td>December 30, 2017</td>\n",
       "      <td>0</td>\n",
       "    </tr>\n",
       "    <tr>\n",
       "      <th>3</th>\n",
       "      <td>Trump Is So Obsessed He Even Has Obama’s Name...</td>\n",
       "      <td>On Christmas day, Donald Trump announced that ...</td>\n",
       "      <td>News</td>\n",
       "      <td>December 29, 2017</td>\n",
       "      <td>0</td>\n",
       "    </tr>\n",
       "    <tr>\n",
       "      <th>4</th>\n",
       "      <td>Pope Francis Just Called Out Donald Trump Dur...</td>\n",
       "      <td>Pope Francis used his annual Christmas Day mes...</td>\n",
       "      <td>News</td>\n",
       "      <td>December 25, 2017</td>\n",
       "      <td>0</td>\n",
       "    </tr>\n",
       "  </tbody>\n",
       "</table>\n",
       "</div>"
      ],
      "text/plain": [
       "                                               title  \\\n",
       "0   Donald Trump Sends Out Embarrassing New Year’...   \n",
       "1   Drunk Bragging Trump Staffer Started Russian ...   \n",
       "2   Sheriff David Clarke Becomes An Internet Joke...   \n",
       "3   Trump Is So Obsessed He Even Has Obama’s Name...   \n",
       "4   Pope Francis Just Called Out Donald Trump Dur...   \n",
       "\n",
       "                                                text subject  \\\n",
       "0  Donald Trump just couldn t wish all Americans ...    News   \n",
       "1  House Intelligence Committee Chairman Devin Nu...    News   \n",
       "2  On Friday, it was revealed that former Milwauk...    News   \n",
       "3  On Christmas day, Donald Trump announced that ...    News   \n",
       "4  Pope Francis used his annual Christmas Day mes...    News   \n",
       "\n",
       "                date  True  \n",
       "0  December 31, 2017     0  \n",
       "1  December 31, 2017     0  \n",
       "2  December 30, 2017     0  \n",
       "3  December 29, 2017     0  \n",
       "4  December 25, 2017     0  "
      ]
     },
     "execution_count": 9,
     "metadata": {},
     "output_type": "execute_result"
    }
   ],
   "source": [
    "data_set_fake.head(5)"
   ]
  },
  {
   "cell_type": "code",
   "execution_count": 10,
   "id": "22cf6ed7",
   "metadata": {},
   "outputs": [],
   "source": [
    "data_set = pd.concat([data_set_fake, data_set_true], axis=0)"
   ]
  },
  {
   "cell_type": "code",
   "execution_count": 11,
   "id": "bae33cec",
   "metadata": {},
   "outputs": [
    {
     "data": {
      "text/html": [
       "<div>\n",
       "<style scoped>\n",
       "    .dataframe tbody tr th:only-of-type {\n",
       "        vertical-align: middle;\n",
       "    }\n",
       "\n",
       "    .dataframe tbody tr th {\n",
       "        vertical-align: top;\n",
       "    }\n",
       "\n",
       "    .dataframe thead th {\n",
       "        text-align: right;\n",
       "    }\n",
       "</style>\n",
       "<table border=\"1\" class=\"dataframe\">\n",
       "  <thead>\n",
       "    <tr style=\"text-align: right;\">\n",
       "      <th></th>\n",
       "      <th>title</th>\n",
       "      <th>text</th>\n",
       "      <th>subject</th>\n",
       "      <th>date</th>\n",
       "      <th>True</th>\n",
       "    </tr>\n",
       "  </thead>\n",
       "  <tbody>\n",
       "    <tr>\n",
       "      <th>0</th>\n",
       "      <td>Donald Trump Sends Out Embarrassing New Year’...</td>\n",
       "      <td>Donald Trump just couldn t wish all Americans ...</td>\n",
       "      <td>News</td>\n",
       "      <td>December 31, 2017</td>\n",
       "      <td>0</td>\n",
       "    </tr>\n",
       "    <tr>\n",
       "      <th>1</th>\n",
       "      <td>Drunk Bragging Trump Staffer Started Russian ...</td>\n",
       "      <td>House Intelligence Committee Chairman Devin Nu...</td>\n",
       "      <td>News</td>\n",
       "      <td>December 31, 2017</td>\n",
       "      <td>0</td>\n",
       "    </tr>\n",
       "    <tr>\n",
       "      <th>2</th>\n",
       "      <td>Sheriff David Clarke Becomes An Internet Joke...</td>\n",
       "      <td>On Friday, it was revealed that former Milwauk...</td>\n",
       "      <td>News</td>\n",
       "      <td>December 30, 2017</td>\n",
       "      <td>0</td>\n",
       "    </tr>\n",
       "    <tr>\n",
       "      <th>3</th>\n",
       "      <td>Trump Is So Obsessed He Even Has Obama’s Name...</td>\n",
       "      <td>On Christmas day, Donald Trump announced that ...</td>\n",
       "      <td>News</td>\n",
       "      <td>December 29, 2017</td>\n",
       "      <td>0</td>\n",
       "    </tr>\n",
       "    <tr>\n",
       "      <th>4</th>\n",
       "      <td>Pope Francis Just Called Out Donald Trump Dur...</td>\n",
       "      <td>Pope Francis used his annual Christmas Day mes...</td>\n",
       "      <td>News</td>\n",
       "      <td>December 25, 2017</td>\n",
       "      <td>0</td>\n",
       "    </tr>\n",
       "  </tbody>\n",
       "</table>\n",
       "</div>"
      ],
      "text/plain": [
       "                                               title  \\\n",
       "0   Donald Trump Sends Out Embarrassing New Year’...   \n",
       "1   Drunk Bragging Trump Staffer Started Russian ...   \n",
       "2   Sheriff David Clarke Becomes An Internet Joke...   \n",
       "3   Trump Is So Obsessed He Even Has Obama’s Name...   \n",
       "4   Pope Francis Just Called Out Donald Trump Dur...   \n",
       "\n",
       "                                                text subject  \\\n",
       "0  Donald Trump just couldn t wish all Americans ...    News   \n",
       "1  House Intelligence Committee Chairman Devin Nu...    News   \n",
       "2  On Friday, it was revealed that former Milwauk...    News   \n",
       "3  On Christmas day, Donald Trump announced that ...    News   \n",
       "4  Pope Francis used his annual Christmas Day mes...    News   \n",
       "\n",
       "                date  True  \n",
       "0  December 31, 2017     0  \n",
       "1  December 31, 2017     0  \n",
       "2  December 30, 2017     0  \n",
       "3  December 29, 2017     0  \n",
       "4  December 25, 2017     0  "
      ]
     },
     "execution_count": 11,
     "metadata": {},
     "output_type": "execute_result"
    }
   ],
   "source": [
    "data_set.head(5)"
   ]
  },
  {
   "cell_type": "markdown",
   "id": "ce981c12",
   "metadata": {},
   "source": [
    "#### Data preprocessing"
   ]
  },
  {
   "cell_type": "code",
   "execution_count": 12,
   "id": "668d5e28",
   "metadata": {},
   "outputs": [
    {
     "name": "stdout",
     "output_type": "stream",
     "text": [
      "<class 'pandas.core.frame.DataFrame'>\n",
      "Int64Index: 44898 entries, 0 to 21416\n",
      "Data columns (total 5 columns):\n",
      " #   Column   Non-Null Count  Dtype \n",
      "---  ------   --------------  ----- \n",
      " 0   title    44898 non-null  object\n",
      " 1   text     44898 non-null  object\n",
      " 2   subject  44898 non-null  object\n",
      " 3   date     44898 non-null  object\n",
      " 4   True     44898 non-null  int64 \n",
      "dtypes: int64(1), object(4)\n",
      "memory usage: 2.1+ MB\n"
     ]
    }
   ],
   "source": [
    "data_set.info()"
   ]
  },
  {
   "cell_type": "markdown",
   "id": "768e84e9",
   "metadata": {},
   "source": [
    "______________________                        \n",
    "**Observations** - We donot have any null values.           \n",
    "We would now do Feature Selection "
   ]
  },
  {
   "cell_type": "code",
   "execution_count": 13,
   "id": "5f730f2e",
   "metadata": {},
   "outputs": [
    {
     "data": {
      "text/plain": [
       "politicsNews    11272\n",
       "worldnews       10145\n",
       "Name: subject, dtype: int64"
      ]
     },
     "execution_count": 13,
     "metadata": {},
     "output_type": "execute_result"
    }
   ],
   "source": [
    "data_set_true['subject'].value_counts()"
   ]
  },
  {
   "cell_type": "code",
   "execution_count": 14,
   "id": "e59147a5",
   "metadata": {},
   "outputs": [
    {
     "data": {
      "text/plain": [
       "News               9050\n",
       "politics           6841\n",
       "left-news          4459\n",
       "Government News    1570\n",
       "US_News             783\n",
       "Middle-east         778\n",
       "Name: subject, dtype: int64"
      ]
     },
     "execution_count": 14,
     "metadata": {},
     "output_type": "execute_result"
    }
   ],
   "source": [
    "data_set_fake['subject'].value_counts()"
   ]
  },
  {
   "cell_type": "markdown",
   "id": "1d9e829c",
   "metadata": {},
   "source": [
    "From the above, we can see that all the true news have subject - politicsNews, worldnews        \n",
    "and fake news has rest other subjects.         \n",
    "This would say that the subjects are correlated to the type of news (Feature- True), we would exclude this columns just so that we are able to read the content of the news and then find out what determines the news as True or Fake. "
   ]
  },
  {
   "cell_type": "markdown",
   "id": "8563ea47",
   "metadata": {},
   "source": [
    "### Data cleaning/ Feature selection"
   ]
  },
  {
   "cell_type": "code",
   "execution_count": 16,
   "id": "ad2ab503",
   "metadata": {},
   "outputs": [],
   "source": [
    "data_set = data_set.drop(['title', 'subject', 'date'], axis = 1)"
   ]
  },
  {
   "cell_type": "code",
   "execution_count": 17,
   "id": "1d510292",
   "metadata": {},
   "outputs": [
    {
     "data": {
      "text/html": [
       "<div>\n",
       "<style scoped>\n",
       "    .dataframe tbody tr th:only-of-type {\n",
       "        vertical-align: middle;\n",
       "    }\n",
       "\n",
       "    .dataframe tbody tr th {\n",
       "        vertical-align: top;\n",
       "    }\n",
       "\n",
       "    .dataframe thead th {\n",
       "        text-align: right;\n",
       "    }\n",
       "</style>\n",
       "<table border=\"1\" class=\"dataframe\">\n",
       "  <thead>\n",
       "    <tr style=\"text-align: right;\">\n",
       "      <th></th>\n",
       "      <th>text</th>\n",
       "      <th>True</th>\n",
       "    </tr>\n",
       "  </thead>\n",
       "  <tbody>\n",
       "    <tr>\n",
       "      <th>0</th>\n",
       "      <td>Donald Trump just couldn t wish all Americans ...</td>\n",
       "      <td>0</td>\n",
       "    </tr>\n",
       "    <tr>\n",
       "      <th>1</th>\n",
       "      <td>House Intelligence Committee Chairman Devin Nu...</td>\n",
       "      <td>0</td>\n",
       "    </tr>\n",
       "    <tr>\n",
       "      <th>2</th>\n",
       "      <td>On Friday, it was revealed that former Milwauk...</td>\n",
       "      <td>0</td>\n",
       "    </tr>\n",
       "    <tr>\n",
       "      <th>3</th>\n",
       "      <td>On Christmas day, Donald Trump announced that ...</td>\n",
       "      <td>0</td>\n",
       "    </tr>\n",
       "    <tr>\n",
       "      <th>4</th>\n",
       "      <td>Pope Francis used his annual Christmas Day mes...</td>\n",
       "      <td>0</td>\n",
       "    </tr>\n",
       "  </tbody>\n",
       "</table>\n",
       "</div>"
      ],
      "text/plain": [
       "                                                text  True\n",
       "0  Donald Trump just couldn t wish all Americans ...     0\n",
       "1  House Intelligence Committee Chairman Devin Nu...     0\n",
       "2  On Friday, it was revealed that former Milwauk...     0\n",
       "3  On Christmas day, Donald Trump announced that ...     0\n",
       "4  Pope Francis used his annual Christmas Day mes...     0"
      ]
     },
     "execution_count": 17,
     "metadata": {},
     "output_type": "execute_result"
    }
   ],
   "source": [
    "data_set.head(5)"
   ]
  },
  {
   "cell_type": "markdown",
   "id": "84d97db8",
   "metadata": {},
   "source": [
    "**Reshuffle the rows**\n",
    "To prevent Bias, improving generalization and to enable randomness in batch selection and avoid overfitting. "
   ]
  },
  {
   "cell_type": "code",
   "execution_count": 18,
   "id": "1aab6152",
   "metadata": {},
   "outputs": [],
   "source": [
    "data_set = data_set.sample(frac=1).reset_index(drop=True)\n"
   ]
  },
  {
   "cell_type": "code",
   "execution_count": 19,
   "id": "462a62ba",
   "metadata": {},
   "outputs": [
    {
     "data": {
      "text/html": [
       "<div>\n",
       "<style scoped>\n",
       "    .dataframe tbody tr th:only-of-type {\n",
       "        vertical-align: middle;\n",
       "    }\n",
       "\n",
       "    .dataframe tbody tr th {\n",
       "        vertical-align: top;\n",
       "    }\n",
       "\n",
       "    .dataframe thead th {\n",
       "        text-align: right;\n",
       "    }\n",
       "</style>\n",
       "<table border=\"1\" class=\"dataframe\">\n",
       "  <thead>\n",
       "    <tr style=\"text-align: right;\">\n",
       "      <th></th>\n",
       "      <th>text</th>\n",
       "      <th>True</th>\n",
       "    </tr>\n",
       "  </thead>\n",
       "  <tbody>\n",
       "    <tr>\n",
       "      <th>0</th>\n",
       "      <td>Whenever we have a terror attack in America, t...</td>\n",
       "      <td>0</td>\n",
       "    </tr>\n",
       "    <tr>\n",
       "      <th>1</th>\n",
       "      <td>WASHINGTON (Reuters) - The Clinton Foundation ...</td>\n",
       "      <td>1</td>\n",
       "    </tr>\n",
       "    <tr>\n",
       "      <th>2</th>\n",
       "      <td>Because what s funnier than tying up the lines...</td>\n",
       "      <td>0</td>\n",
       "    </tr>\n",
       "    <tr>\n",
       "      <th>3</th>\n",
       "      <td>NEW YORK (Reuters) - New Jersey Governor Chris...</td>\n",
       "      <td>1</td>\n",
       "    </tr>\n",
       "    <tr>\n",
       "      <th>4</th>\n",
       "      <td>BEIJING (Reuters) - China s naval chief has to...</td>\n",
       "      <td>1</td>\n",
       "    </tr>\n",
       "    <tr>\n",
       "      <th>5</th>\n",
       "      <td>One of the biggest mysteries in Constitutional...</td>\n",
       "      <td>0</td>\n",
       "    </tr>\n",
       "    <tr>\n",
       "      <th>6</th>\n",
       "      <td>If one were to best describe Donald Trump, esp...</td>\n",
       "      <td>0</td>\n",
       "    </tr>\n",
       "    <tr>\n",
       "      <th>7</th>\n",
       "      <td>GAZA (Reuters) - Rival Palestinian factions Fa...</td>\n",
       "      <td>1</td>\n",
       "    </tr>\n",
       "    <tr>\n",
       "      <th>8</th>\n",
       "      <td>If Donald Trump was watching The Late Show wit...</td>\n",
       "      <td>0</td>\n",
       "    </tr>\n",
       "    <tr>\n",
       "      <th>9</th>\n",
       "      <td>WASHINGTON (Reuters) - In late October, Presi...</td>\n",
       "      <td>1</td>\n",
       "    </tr>\n",
       "  </tbody>\n",
       "</table>\n",
       "</div>"
      ],
      "text/plain": [
       "                                                text  True\n",
       "0  Whenever we have a terror attack in America, t...     0\n",
       "1  WASHINGTON (Reuters) - The Clinton Foundation ...     1\n",
       "2  Because what s funnier than tying up the lines...     0\n",
       "3  NEW YORK (Reuters) - New Jersey Governor Chris...     1\n",
       "4  BEIJING (Reuters) - China s naval chief has to...     1\n",
       "5  One of the biggest mysteries in Constitutional...     0\n",
       "6  If one were to best describe Donald Trump, esp...     0\n",
       "7  GAZA (Reuters) - Rival Palestinian factions Fa...     1\n",
       "8  If Donald Trump was watching The Late Show wit...     0\n",
       "9   WASHINGTON (Reuters) - In late October, Presi...     1"
      ]
     },
     "execution_count": 19,
     "metadata": {},
     "output_type": "execute_result"
    }
   ],
   "source": [
    "data_set.head(10)"
   ]
  },
  {
   "cell_type": "code",
   "execution_count": 20,
   "id": "b0a43326",
   "metadata": {},
   "outputs": [],
   "source": [
    "# For ML models the data is better read in numerical values, so we will need to convert the text into numerical vectors. \n",
    "# TFIDF technique. (some words are important, to get the context of the words)\n",
    "# Feature extraction "
   ]
  },
  {
   "cell_type": "code",
   "execution_count": 21,
   "id": "f3bffd07",
   "metadata": {},
   "outputs": [],
   "source": [
    "# After inspecting some texts, we would like to remove the punctuations, handle the casing of the texts, remove links and other symbols. \n"
   ]
  },
  {
   "cell_type": "code",
   "execution_count": 22,
   "id": "55ba80cc",
   "metadata": {},
   "outputs": [],
   "source": [
    "import re\n",
    "\n",
    "def cleantext(text):\n",
    "    \n",
    "    #covert to lowercase\n",
    "    text = text.lower()\n",
    "    \n",
    "    #remove URLs\n",
    "    text = re.sub(r'^https?:\\/\\/.*[\\r\\n]*', '', text, flags=re.MULTILINE)\n",
    "    \n",
    "    #remove html tags\n",
    "    text = re.sub(r'[<.*?]>+', '', text, flags=re.MULTILINE)\n",
    "    \n",
    "    #remove punctuations\n",
    "    text = re.sub(r'[^\\w\\s]', '', text, flags=re.MULTILINE)\n",
    "    \n",
    "    #remove digits\n",
    "    text = re.sub(r'\\d', '', text, flags=re.MULTILINE)\n",
    "    \n",
    "    #remove newline character\n",
    "    text = re.sub(r'\\n', '', text, flags=re.MULTILINE)  \n",
    "    \n",
    "    return text\n",
    "\n",
    "\n",
    "    "
   ]
  },
  {
   "cell_type": "code",
   "execution_count": 23,
   "id": "f507c257",
   "metadata": {},
   "outputs": [
    {
     "data": {
      "text/plain": [
       "'whenever we have a terror attack in america the media goes to great lengths to make sure no one assumes of the killer was a muslim meanwhile the media has gone out of their way to convince americans that all hispanics hate trump isn t it interesting how quickly they print a story about the murderer of two muslim men who witnesses describe as a  tall hispanic man  and then blame trumpan imam and his assistant were shot and killed in broad daylight as they walked home from a mosque in queens that s not what america is about  khairul islam  a local resident told the daily news  we blame donald trump for this trump and his drama has created islamophobia another imam whose name is unknown at the moment also blamed the real estate mogul and former nyc mayor for the shooting  for those in leadership like trump and mr giuliani and other members of other institutions that project islam and muslims as the enemy this is the end result of their wickedness  the imam said at a gathering of muslims protesting the shootingother muslim gatherings were chanting  this is donald trump s fault  and  muslim hate crime witnesses providing leads to the nypd described the shooter as a tall man of hispanic descent the nypd is currently conducting an extensive canvass of the area for video and seeking additional witnesses as the shooter remains at large   breitbart'"
      ]
     },
     "execution_count": 23,
     "metadata": {},
     "output_type": "execute_result"
    }
   ],
   "source": [
    "data_set['text'] = data_set['text'].apply(cleantext)\n",
    "data_set['text'].get(0)"
   ]
  },
  {
   "cell_type": "markdown",
   "id": "8d2ac483",
   "metadata": {},
   "source": [
    "### Separate dependent and independent features\n"
   ]
  },
  {
   "cell_type": "code",
   "execution_count": 79,
   "id": "ff285002",
   "metadata": {},
   "outputs": [],
   "source": [
    "X = data_set['text']\n",
    "Y = data_set['True']"
   ]
  },
  {
   "cell_type": "markdown",
   "id": "499e0da8",
   "metadata": {},
   "source": [
    "### Split into training test data\n"
   ]
  },
  {
   "cell_type": "code",
   "execution_count": 25,
   "id": "ab3ed7f4",
   "metadata": {},
   "outputs": [
    {
     "name": "stdout",
     "output_type": "stream",
     "text": [
      "42889    0\n",
      "25120    0\n",
      "7521     0\n",
      "20241    0\n",
      "41523    0\n",
      "        ..\n",
      "4910     0\n",
      "41879    0\n",
      "18038    1\n",
      "29295    1\n",
      "13049    0\n",
      "Name: True, Length: 31429, dtype: int64\n"
     ]
    }
   ],
   "source": [
    "from sklearn.model_selection import train_test_split\n",
    "\n",
    "x_test, x_train, y_test, y_train = train_test_split(X,Y, test_size=0.7)\n",
    "\n",
    "print(y_train)"
   ]
  },
  {
   "cell_type": "markdown",
   "id": "c53a7995",
   "metadata": {},
   "source": [
    "### Feature extraction -> we now convert the text to numerical data\n"
   ]
  },
  {
   "cell_type": "code",
   "execution_count": 26,
   "id": "269c8273",
   "metadata": {},
   "outputs": [],
   "source": [
    "\n",
    "from sklearn.feature_extraction.text import TfidfVectorizer\n",
    "vectorization = TfidfVectorizer()\n",
    "\n",
    "xv_train = vectorization.fit_transform(x_train)\n",
    "xv_test = vectorization.transform(x_test) # we only transform test data and donot fit() ie calculate the parameters again. \n",
    "# because we donot want new parameters to be calculated, if done new new words will be observed and the feature/column numbers will mismatch while predicting\n"
   ]
  },
  {
   "cell_type": "code",
   "execution_count": 63,
   "id": "bd59a91d",
   "metadata": {},
   "outputs": [
    {
     "data": {
      "text/plain": [
       "<31429x177683 sparse matrix of type '<class 'numpy.float64'>'\n",
       "\twith 6436453 stored elements in Compressed Sparse Row format>"
      ]
     },
     "execution_count": 63,
     "metadata": {},
     "output_type": "execute_result"
    }
   ],
   "source": [
    "xv_test\n",
    "xv_train"
   ]
  },
  {
   "cell_type": "markdown",
   "id": "af10aaf1",
   "metadata": {},
   "source": [
    "### Train models and find the accuracy of the prediction "
   ]
  },
  {
   "cell_type": "code",
   "execution_count": 29,
   "id": "86577270",
   "metadata": {},
   "outputs": [],
   "source": [
    "def train_model(model, X_train, X_test, y_train, y_test):\n",
    "    model.fit(X_train, y_train)\n",
    "    y_pred = model.predict(X_test)\n",
    "    print(f\"score {model.score(xv_test, y_test)}\")\n",
    "    print(f\"classification report \\n {classification_report(y_test, y_pred)}\")\n"
   ]
  },
  {
   "cell_type": "code",
   "execution_count": 30,
   "id": "23759a8f",
   "metadata": {},
   "outputs": [
    {
     "name": "stdout",
     "output_type": "stream",
     "text": [
      "score 0.9872299354072315\n",
      "classification report \n",
      "               precision    recall  f1-score   support\n",
      "\n",
      "           0       0.99      0.99      0.99      7102\n",
      "           1       0.98      0.99      0.99      6367\n",
      "\n",
      "    accuracy                           0.99     13469\n",
      "   macro avg       0.99      0.99      0.99     13469\n",
      "weighted avg       0.99      0.99      0.99     13469\n",
      "\n"
     ]
    }
   ],
   "source": [
    "# LogisticRegression \n",
    "\n",
    "from sklearn.linear_model import LogisticRegression\n",
    "from sklearn.metrics import classification_report\n",
    "\n",
    "lr = LogisticRegression()\n",
    "train_model(lr, xv_train, xv_test, y_train, y_test)"
   ]
  },
  {
   "cell_type": "code",
   "execution_count": 31,
   "id": "d8bc147b",
   "metadata": {},
   "outputs": [
    {
     "name": "stdout",
     "output_type": "stream",
     "text": [
      "score 0.9960650382359492\n",
      "classification report \n",
      "               precision    recall  f1-score   support\n",
      "\n",
      "           0       1.00      1.00      1.00      7102\n",
      "           1       1.00      1.00      1.00      6367\n",
      "\n",
      "    accuracy                           1.00     13469\n",
      "   macro avg       1.00      1.00      1.00     13469\n",
      "weighted avg       1.00      1.00      1.00     13469\n",
      "\n"
     ]
    }
   ],
   "source": [
    "# Decision Tree Classifier \n",
    "\n",
    "from sklearn.tree import DecisionTreeClassifier\n",
    "dtc = DecisionTreeClassifier()\n",
    "train_model(dtc, xv_train, xv_test, y_train, y_test)"
   ]
  },
  {
   "cell_type": "code",
   "execution_count": 32,
   "id": "0d7ad5b5",
   "metadata": {},
   "outputs": [
    {
     "name": "stdout",
     "output_type": "stream",
     "text": [
      "score 0.989680005939565\n",
      "classification report \n",
      "               precision    recall  f1-score   support\n",
      "\n",
      "           0       0.99      0.99      0.99      7102\n",
      "           1       0.99      0.99      0.99      6367\n",
      "\n",
      "    accuracy                           0.99     13469\n",
      "   macro avg       0.99      0.99      0.99     13469\n",
      "weighted avg       0.99      0.99      0.99     13469\n",
      "\n"
     ]
    }
   ],
   "source": [
    "# Random Forest Classifier \n",
    "\n",
    "from sklearn.ensemble import RandomForestClassifier\n",
    "rfc = RandomForestClassifier() \n",
    "train_model(rfc, xv_train, xv_test, y_train, y_test)"
   ]
  },
  {
   "cell_type": "code",
   "execution_count": 33,
   "id": "2bab6c13",
   "metadata": {},
   "outputs": [
    {
     "name": "stdout",
     "output_type": "stream",
     "text": [
      "score 0.9881951147078476\n",
      "classification report \n",
      "               precision    recall  f1-score   support\n",
      "\n",
      "           0       0.99      0.99      0.99      7102\n",
      "           1       0.99      0.99      0.99      6367\n",
      "\n",
      "    accuracy                           0.99     13469\n",
      "   macro avg       0.99      0.99      0.99     13469\n",
      "weighted avg       0.99      0.99      0.99     13469\n",
      "\n"
     ]
    }
   ],
   "source": [
    "# Gradient Boost\n",
    "\n",
    "from sklearn.ensemble import GradientBoostingClassifier\n",
    "gbc = GradientBoostingClassifier()\n",
    "train_model(rfc, xv_train, xv_test, y_train, y_test)"
   ]
  },
  {
   "cell_type": "markdown",
   "id": "6c6be734",
   "metadata": {},
   "source": [
    "### Create Predictive Model"
   ]
  },
  {
   "cell_type": "code",
   "execution_count": 73,
   "id": "61067f44",
   "metadata": {},
   "outputs": [],
   "source": [
    "def output_status(true):\n",
    "    if true == 0:\n",
    "        return \"It's a Fake news\"\n",
    "    elif true == 1:\n",
    "        return\"It's a True news\"\n",
    "        \n",
    "def manual_testing(news):\n",
    "    testing_news = {\"text\": [news]} #dictonary \n",
    "    df_test = pd.DataFrame(testing_news)\n",
    "    df_test['text'] = df_test['text'].apply(cleantext)\n",
    "    new_x_test = df_test['text']\n",
    "    new_xv_test = vectorization.transform(new_x_test) #object vectorization is defined above_ tfidf\n",
    "    y_pred_lr = lr.predict(new_xv_test)\n",
    "    y_pred_dtc = lr.predict(new_xv_test)\n",
    "    y_pred_rfc = lr.predict(new_xv_test)\n",
    "    y_pred_gbc = lr.predict(new_xv_test)\n",
    "    return print(\"prediction  \\n\\nLogistic Regression {}, \\nDecision tree {}, \\nRandom forest {}, \\nGradient boost {}\".format(output_status(y_pred_lr[0]), \n",
    "                                                                                                       output_status(y_pred_dtc[0]), \n",
    "                                                                                                       output_status(y_pred_rfc[0]), \n",
    "                                                                                                       output_status(y_pred_gbc[0])))"
   ]
  },
  {
   "cell_type": "code",
   "execution_count": 74,
   "id": "8728a4b1",
   "metadata": {},
   "outputs": [],
   "source": [
    "news_article = \"Three sons of Hamas political leader Ismail Haniyeh were killed in an Israeli airstrike in Gaza Wednesday, an assassination that threatens to complicate ongoing negotiations aiming to secure a ceasefire and hostage deal.The Israeli military confirmed it carried out the attack, describing the men as “three Hamas military operatives that conducted terrorist activity in the central Gaza Strip.”According to the Israel Defense Forces (IDF) and Israel Security Agency (ISA), those killed were Amir Haniyeh, a cell commander in Hamas’ military wing, and Hamas military operatives Mohammad Haniyeh and Hazem Haniyeh.CNN is not able to independently confirm the IDF’s claims.The three were killed when the vehicle they were driving in was bombed in the Al Shati refugee camp, northwest of Gaza City, Hamas political leader Haniyeh told Al Jazeera.At least three of Haniyeh’s grandchildren were also killed, as was the driver, according to a journalist working for CNN in Gaza.The Israeli military statement did not mention anyone else being killed in the strike.The Hamas-run government media office (GMO) said Wednesday that the Haniyeh family had been “carrying out social and family visits on the occasion of Eid al-Fitr,” before the vehicle was struck.Eid al-Fitr marks the end of Ramadan and is one of the most important holidays on the Islamic calendar.Haniyeh in a statement said killing the sons of leaders would only make Hamas “more steadfast in our principles and adherence to our land.”Whoever thinks that by targeting my kids during the negotiation talks and before a deal is agreed upon that it will force Hamas to back down on its demands, is delusional,” Haniyeh added.\""
   ]
  },
  {
   "cell_type": "code",
   "execution_count": 75,
   "id": "97d6de6c",
   "metadata": {},
   "outputs": [
    {
     "name": "stdout",
     "output_type": "stream",
     "text": [
      "prediction  \n",
      "\n",
      "Logistic Regression It's a True news, \n",
      "Decision tree It's a True news, \n",
      "Random forest It's a True news, \n",
      "Gradient boost It's a True news\n"
     ]
    }
   ],
   "source": [
    "manual_testing(news_article)"
   ]
  },
  {
   "cell_type": "code",
   "execution_count": 77,
   "id": "6f17a81e",
   "metadata": {},
   "outputs": [],
   "source": [
    "news_article_fake = \"Title: Global Leaders Take Action on Climate Change at COP26 Summit In a historic moment for climate action, world leaders gathered at the COP26 summit in Glasgow to address the pressing issue of climate change. With the recent release of alarming reports on the state of the planet, the urgency to take bold steps to curb greenhouse gas emissions and limit global warming has never been greater. During the summit, countries pledged to ramp up their efforts to reduce carbon emissions and transition to renewable energy sources. The United States announced ambitious targets to cut emissions by 50-52% below 2005 levels by 2030, while China committed to peak its carbon emissions before 2030 and achieve carbon neutrality by 2060. One of the key topics of discussion at the summit was the need for wealthy nations to provide financial support to developing countries to help them adapt to the effects of climate change. A new agreement was reached to increase funding for climate adaptation and resilience in vulnerable regions, signaling a step towards global solidarity in the fight against climate change. Environmental activists and youth advocates were also present at the summit, pushing for stronger commitments from world leaders to protect the planet for future generations. Greta Thunberg, the renowned climate activist, delivered a powerful speech urging leaders to act with urgency and prioritize the well-being of the planet over short-term economic interests. As the COP26 summit drew to a close, there was a sense of hope and determination among participants that real progress had been made towards addressing the climate crisis. While the road ahead is challenging, the collective efforts of global leaders and activists have set a new course towards a more sustainable and resilient future for all.\""
   ]
  },
  {
   "cell_type": "code",
   "execution_count": 78,
   "id": "f1810478",
   "metadata": {},
   "outputs": [
    {
     "name": "stdout",
     "output_type": "stream",
     "text": [
      "prediction  \n",
      "\n",
      "Logistic Regression It's a Fake news, \n",
      "Decision tree It's a Fake news, \n",
      "Random forest It's a Fake news, \n",
      "Gradient boost It's a Fake news\n"
     ]
    }
   ],
   "source": [
    "manual_testing(news_article_fake)"
   ]
  },
  {
   "cell_type": "code",
   "execution_count": null,
   "id": "49f4fbb0",
   "metadata": {},
   "outputs": [],
   "source": []
  }
 ],
 "metadata": {
  "kernelspec": {
   "display_name": "Python 3 (ipykernel)",
   "language": "python",
   "name": "python3"
  },
  "language_info": {
   "codemirror_mode": {
    "name": "ipython",
    "version": 3
   },
   "file_extension": ".py",
   "mimetype": "text/x-python",
   "name": "python",
   "nbconvert_exporter": "python",
   "pygments_lexer": "ipython3",
   "version": "3.10.9"
  }
 },
 "nbformat": 4,
 "nbformat_minor": 5
}
